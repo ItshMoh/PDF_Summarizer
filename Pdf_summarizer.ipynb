{
  "nbformat": 4,
  "nbformat_minor": 0,
  "metadata": {
    "colab": {
      "provenance": [],
      "mount_file_id": "1gMt0CyZK5XhahMNn86-iy5VtBgTIGmlZ",
      "authorship_tag": "ABX9TyPiThOUwm0CB5mGSNlSHsH7",
      "include_colab_link": true
    },
    "kernelspec": {
      "name": "python3",
      "display_name": "Python 3"
    },
    "language_info": {
      "name": "python"
    }
  },
  "cells": [
    {
      "cell_type": "markdown",
      "metadata": {
        "id": "view-in-github",
        "colab_type": "text"
      },
      "source": [
        "<a href=\"https://colab.research.google.com/github/ItshMoh/PDF_Summarizer/blob/main/Pdf_summarizer.ipynb\" target=\"_parent\"><img src=\"https://colab.research.google.com/assets/colab-badge.svg\" alt=\"Open In Colab\"/></a>"
      ]
    },
    {
      "cell_type": "code",
      "source": [
        "!pip install pdfminer.six\n",
        "!pip install transformers"
      ],
      "metadata": {
        "id": "0kcHr4c2o3nG"
      },
      "execution_count": null,
      "outputs": []
    },
    {
      "cell_type": "code",
      "source": [
        "#Run this code to give access the pdf which you want to summarize.\n",
        "#Either you can upload the pdf to the current session.\n",
        "from google.colab import drive\n",
        "drive.mount('/content/drive')\n"
      ],
      "metadata": {
        "id": "cu-QXcYSx6YG"
      },
      "execution_count": null,
      "outputs": []
    },
    {
      "cell_type": "code",
      "execution_count": 2,
      "metadata": {
        "id": "qovhlJxBoeag"
      },
      "outputs": [],
      "source": [
        "from pdfminer.high_level import extract_pages"
      ]
    },
    {
      "cell_type": "code",
      "source": [
        "from transformers import pipeline"
      ],
      "metadata": {
        "id": "CvhBsWZnozYS"
      },
      "execution_count": 4,
      "outputs": []
    },
    {
      "cell_type": "code",
      "source": [
        "# Here you can do the summarization with other models. Take a look at the huggingmodels.\n",
        "summarizer = pipeline(\"summarization\", model=\"facebook/bart-large-cnn\")"
      ],
      "metadata": {
        "id": "0d-MfqGF9Pxy"
      },
      "execution_count": null,
      "outputs": []
    },
    {
      "cell_type": "code",
      "source": [
        "from pdfminer.pdfinterp import PDFResourceManager, PDFPageInterpreter\n",
        "from pdfminer.converter import TextConverter\n",
        "from pdfminer.layout import LAParams\n",
        "from pdfminer.pdfpage import PDFPage\n",
        "from io import BytesIO\n",
        "\n",
        "# Open the PDF file\n",
        "pdf_file = open('/path/to/your/pdf', 'rb')\n",
        "\n",
        "# Create a PDF resource manager and set parameters\n",
        "resource_manager = PDFResourceManager()\n",
        "output_stream = BytesIO()\n",
        "laparams = LAParams()\n",
        "\n",
        "# Create a PDF page interpreter\n",
        "pdf_page_interpreter = PDFPageInterpreter(resource_manager, TextConverter(resource_manager, output_stream, laparams=laparams))\n",
        "\n",
        "# Specify the page number you want to access (0-based index)\n",
        "page_number = [i] # Replace i with the page number you need you can give two or more page numbers seperated with comma.\n",
        "\n",
        "# Access the specified page's text\n",
        "pdf_file.seek(0)  # Reset the file pointer to the beginning\n",
        "pdf_pages = PDFPage.get_pages(pdf_file, caching=True, check_extractable=True)\n",
        "for i, page in enumerate(pdf_pages):\n",
        "  for j in page_number:\n",
        "\n",
        "    if i+1 == j:\n",
        "        pdf_page_interpreter.process_page(page)\n",
        "\n",
        "# Get the page text\n",
        "page_text = output_stream.getvalue()\n",
        "\n",
        "# Close the PDF file and output stream\n",
        "pdf_file.close()\n",
        "output_stream.close()\n",
        "\n",
        "# Print or use the page text as needed\n",
        "extracted_text=page_text.decode('utf-8')\n"
      ],
      "metadata": {
        "id": "6buok7cpudz7"
      },
      "execution_count": null,
      "outputs": []
    },
    {
      "cell_type": "code",
      "source": [
        "#Run this cell if you just want to access the text of the page you specify'\n",
        "#print(extracted_text)"
      ],
      "metadata": {
        "id": "QjmzotDjzCrF"
      },
      "execution_count": null,
      "outputs": []
    },
    {
      "cell_type": "code",
      "source": [
        "import textwrap\n",
        "words_size=700\n",
        "batches= textwrap.wrap(extracted_text,width=words_size)"
      ],
      "metadata": {
        "id": "KSRke8IZ13as"
      },
      "execution_count": 8,
      "outputs": []
    },
    {
      "cell_type": "code",
      "source": [
        "#Run the below code if you want to see the batches of the pages.\n",
        "# for i, batch in enumerate(batches):\n",
        "#   print(f\"Batch {i+1}\\n {batch}\\n\")"
      ],
      "metadata": {
        "id": "iZXQ0ceW13ZN"
      },
      "execution_count": null,
      "outputs": []
    },
    {
      "cell_type": "code",
      "source": [
        "overall_summary=[]\n",
        "import re\n",
        "for i, batch in enumerate(batches):\n",
        "  summary= summarizer(batch,max_length=75,min_length=25,do_sample=False)\n",
        "\n",
        "  overall_summary.append(summary)\n",
        "\n",
        "summaries= \" \" .join(map(str,overall_summary))\n",
        "pattern = r'[{\\\"\\':}]'\n",
        "substring_to_remove=\"summary_text\"\n",
        "cleaned_summary= re.sub(pattern,'',summaries)\n",
        "Required_summary= cleaned_summary.replace(substring_to_remove,\"\")\n",
        "Required_summary"
      ],
      "metadata": {
        "colab": {
          "base_uri": "https://localhost:8080/",
          "height": 157
        },
        "id": "kqYSok2A6JHq",
        "outputId": "795b36ca-9f49-48b8-a841-38965d4c74b6"
      },
      "execution_count": 16,
      "outputs": [
        {
          "output_type": "execute_result",
          "data": {
            "text/plain": [
              "'[ Main sources of carbohydrates in the diet are starch and sugar. The sources of the former are mainly cereal grains (wheat, rice, etc.) or tubers (potato, sweet potato, cassova)] [ About 30 per cent of human energy requirements are met by fats. Fat up to about 15 per cent is present in the germ of cereals. Nuts, such as  groundnuts, are rich sources of fats.] [ Proteins are the major source of building material for the body. They play an important role as structural constituents of cellular membranes. Meat, fish, poultry, eggs, milk and cheese are good sources of protein from animal sources.] [ Soyabean contains over 40 per cent protein on dry weight basis. Nuts and  seeds are also good sources of proteins. Starchy vegetables contain up to 2 per centprotein. Other vegetables and fruits are poor sources of protein.] [ Vitamins are not uniformly distributed in plant tissues. Vegetables and fruits are good sources of vitamins. Wheat is an excellent source of B vitamins, but the bran and germ are usually removed during processing.] [ Minerals also act as  catalysts for  many  biological  reactions within the body. Some minerals like calcium, phosphorus, iron, magnesium and sulphur are required in large quantities. Others like zinc,  copper,  iodine, manganese,  cobalt,  etc.,  are  required in small quantities.]'"
            ],
            "application/vnd.google.colaboratory.intrinsic+json": {
              "type": "string"
            }
          },
          "metadata": {},
          "execution_count": 16
        }
      ]
    }
  ]
}